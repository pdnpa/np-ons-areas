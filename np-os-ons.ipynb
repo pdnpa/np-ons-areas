{
 "cells": [
  {
   "cell_type": "code",
   "execution_count": 1,
   "metadata": {},
   "outputs": [],
   "source": [
    "import geopandas as gpd\n",
    "import pandas as pd\n",
    "import matplotlib.pyplot as plt\n",
    "import numpy as np\n",
    "import fiona\n",
    "import os"
   ]
  },
  {
   "cell_type": "markdown",
   "metadata": {},
   "source": [
    "### Apportion the population with each OA"
   ]
  },
  {
   "cell_type": "code",
   "execution_count": 40,
   "metadata": {},
   "outputs": [
    {
     "name": "stdout",
     "output_type": "stream",
     "text": [
      "Loading shapefile and CSVs...\n",
      "Merging output area population data with OA GeoDataFrame...\n",
      "Columns in oa_gdf:\n",
      "Index(['OA21CD', 'LSOA21CD', 'LSOA21NM', 'LSOA21NMW', 'BNG_E', 'BNG_N', 'LAT',\n",
      "       'LONG', 'GlobalID', 'index_righ', 'CODE', 'NAME', 'MEASURE',\n",
      "       'DESIG_DATE', 'HOTLINK', 'STATUS', 'National_P', 'Park_Population',\n",
      "       'address_in', 'total_addr', 'address_ou', 'geometry', 'OA_Population'],\n",
      "      dtype='object')\n",
      "First few rows of oa_gdf:\n",
      "      OA21CD   LSOA21CD        LSOA21NM LSOA21NMW   BNG_E   BNG_N      LAT  \\\n",
      "0  E00027390  E01005409     Oldham 020D      None  402127  403557  53.5287   \n",
      "1  E00027395  E01005410     Oldham 006A      None  401338  408961  53.5773   \n",
      "2  E00027396  E01005410     Oldham 006A      None  402683  407583  53.5649   \n",
      "3  E00027401  E01005410     Oldham 006A      None  401412  406686  53.5568   \n",
      "4  E00029923  E01005908  Stockport 017D      None  398819  387648  53.3857   \n",
      "\n",
      "      LONG                              GlobalID  index_righ  ...  DESIG_DATE  \\\n",
      "0 -1.96938  8dd705cd-c1da-4cc3-8d0b-7cb2be238540           3  ...  1951-04-17   \n",
      "1 -1.98126  35aeed8a-be8d-4d9e-a60f-ad2643f55769           3  ...  1951-04-17   \n",
      "2 -1.96096  b2e80262-8633-4018-a289-f9bbb8ea2409           3  ...  1951-04-17   \n",
      "3 -1.98015  454bcaf4-553e-4a28-88f6-f70a08d0b29c           3  ...  1951-04-17   \n",
      "4 -2.01921  3d979985-c2b8-42c2-a0c9-aed7bdecdbeb           3  ...  1951-04-17   \n",
      "\n",
      "                           HOTLINK      STATUS     National_P Park_Population  \\\n",
      "0  http://www.peakdistrict.gov.uk/  Designated  PEAK DISTRICT             321   \n",
      "1  http://www.peakdistrict.gov.uk/  Designated  PEAK DISTRICT             128   \n",
      "2  http://www.peakdistrict.gov.uk/  Designated  PEAK DISTRICT             288   \n",
      "3  http://www.peakdistrict.gov.uk/  Designated  PEAK DISTRICT             232   \n",
      "4  http://www.peakdistrict.gov.uk/  Designated  PEAK DISTRICT             443   \n",
      "\n",
      "  address_in total_addr  address_ou  \\\n",
      "0        8.0        117       109.0   \n",
      "1        0.0         46        46.0   \n",
      "2       14.0        126       112.0   \n",
      "3       15.0         89        74.0   \n",
      "4        0.0        161       161.0   \n",
      "\n",
      "                                            geometry  OA_Population  \n",
      "0  POLYGON ((406087.19 404640.127, 406041.081 404...            321  \n",
      "1  POLYGON ((402062.283 409612.497, 402063.442 40...            128  \n",
      "2  POLYGON ((404899.026 406446.291, 404940.639 40...            288  \n",
      "3  POLYGON ((401641.234 405370.565, 401623.552 40...            232  \n",
      "4  POLYGON ((400607.095 390930.094, 400548.813 39...            443  \n",
      "\n",
      "[5 rows x 23 columns]\n",
      "Calculating population per address...\n",
      "First few rows of the updated oa_gdf:\n",
      "      OA21CD  OA_Population  total_addr  address_in  address_ou  \\\n",
      "0  E00027390            321         117         8.0       109.0   \n",
      "1  E00027395            128          46         0.0        46.0   \n",
      "2  E00027396            288         126        14.0       112.0   \n",
      "3  E00027401            232          89        15.0        74.0   \n",
      "4  E00029923            443         161         0.0       161.0   \n",
      "\n",
      "   pop_per_address  pop_inside  pop_outside  \n",
      "0         2.743590   21.948718   299.051282  \n",
      "1         2.782609    0.000000   128.000000  \n",
      "2         2.285714   32.000000   256.000000  \n",
      "3         2.606742   39.101124   192.898876  \n",
      "4         2.751553    0.000000   443.000000  \n",
      "Saving the updated GeoDataFrame to ./data/ABPOGB_CSV/output_area_population_apportioned.shp...\n"
     ]
    },
    {
     "name": "stderr",
     "output_type": "stream",
     "text": [
      "C:\\Users\\alexad\\AppData\\Local\\Temp\\ipykernel_25760\\2913384284.py:46: UserWarning: Column names longer than 10 characters will be truncated when saved to ESRI Shapefile.\n",
      "  oa_gdf.to_file(output_shapefile, driver='ESRI Shapefile')\n",
      "c:\\Users\\alexad\\AppData\\Local\\anaconda3\\envs\\np-os\\lib\\site-packages\\pyogrio\\raw.py:709: RuntimeWarning: Field DESIG_DATE create as date field, though DateTime requested.\n",
      "  ogr_write(\n",
      "c:\\Users\\alexad\\AppData\\Local\\anaconda3\\envs\\np-os\\lib\\site-packages\\pyogrio\\raw.py:709: RuntimeWarning: Normalized/laundered field name: 'Park_Population' to 'Park_Popul'\n",
      "  ogr_write(\n",
      "c:\\Users\\alexad\\AppData\\Local\\anaconda3\\envs\\np-os\\lib\\site-packages\\pyogrio\\raw.py:709: RuntimeWarning: Normalized/laundered field name: 'OA_Population' to 'OA_Populat'\n",
      "  ogr_write(\n",
      "c:\\Users\\alexad\\AppData\\Local\\anaconda3\\envs\\np-os\\lib\\site-packages\\pyogrio\\raw.py:709: RuntimeWarning: Normalized/laundered field name: 'pop_per_address' to 'pop_per_ad'\n",
      "  ogr_write(\n",
      "c:\\Users\\alexad\\AppData\\Local\\anaconda3\\envs\\np-os\\lib\\site-packages\\pyogrio\\raw.py:709: RuntimeWarning: Normalized/laundered field name: 'pop_outside' to 'pop_outsid'\n",
      "  ogr_write(\n"
     ]
    }
   ],
   "source": [
    "# File paths\n",
    "oa_population_shapefile = './data/output_area_population.shp'\n",
    "oa_age_bands_csv = './data/oa_age_bands.csv'\n",
    "\n",
    "# Load shapefile and CSV\n",
    "print(\"Loading shapefile and CSVs...\")\n",
    "oa_gdf = gpd.read_file(oa_population_shapefile)\n",
    "oa_age_bands_df = pd.read_csv(oa_age_bands_csv)\n",
    "\n",
    "# Ensure population CSV column names are consistent\n",
    "oa_age_bands_df.columns = ['OA21CD', 'Population']\n",
    "\n",
    "# Merge the output area population data with the OA GeoDataFrame\n",
    "print(\"Merging output area population data with OA GeoDataFrame...\")\n",
    "oa_gdf = oa_gdf.merge(oa_age_bands_df, on='OA21CD', how='left')\n",
    "\n",
    "# Rename the columns to make sure we are clear\n",
    "oa_gdf.rename(columns={'Population_x': 'Park_Population', 'Population_y': 'OA_Population'}, inplace=True)\n",
    "\n",
    "# Print columns of oa_gdf to verify\n",
    "print(\"Columns in oa_gdf:\")\n",
    "print(oa_gdf.columns)\n",
    "\n",
    "# Print the first few rows of oa_gdf to inspect the data\n",
    "print(\"First few rows of oa_gdf:\")\n",
    "print(oa_gdf.head())\n",
    "\n",
    "# Calculate the population per address\n",
    "print(\"Calculating population per address...\")\n",
    "oa_gdf['pop_per_address'] = oa_gdf['OA_Population'] / oa_gdf['total_addr']\n",
    "\n",
    "# Calculate the population inside and outside the national parks\n",
    "oa_gdf['pop_inside'] = oa_gdf['pop_per_address'] * oa_gdf['address_in']\n",
    "oa_gdf['pop_outside'] = oa_gdf['pop_per_address'] * oa_gdf['address_ou']\n",
    "\n",
    "# Print the first few rows of the updated oa_gdf to inspect the calculations\n",
    "print(\"First few rows of the updated oa_gdf:\")\n",
    "print(oa_gdf[['OA21CD', 'OA_Population', 'total_addr', 'address_in', 'address_ou', 'pop_per_address', 'pop_inside', 'pop_outside']].head())\n",
    "\n",
    "# Save the updated GeoDataFrame to a new shapefile\n",
    "output_shapefile = './data/output_area_population_apportioned.shp'\n",
    "print(f\"Saving the updated GeoDataFrame to {output_shapefile}...\")\n",
    "oa_gdf.to_file(output_shapefile, driver='ESRI Shapefile')"
   ]
  },
  {
   "cell_type": "markdown",
   "metadata": {},
   "source": [
    "### Optomize the threshold"
   ]
  },
  {
   "cell_type": "code",
   "execution_count": 38,
   "metadata": {},
   "outputs": [
    {
     "name": "stdout",
     "output_type": "stream",
     "text": [
      "Loading shapefile data...\n",
      "Threshold results saved to 'threshold_results.csv'.\n"
     ]
    }
   ],
   "source": [
    "\n",
    "# Load the necessary data\n",
    "oa_population_shapefile = './data/output_area_population_apportioned.shp'\n",
    "\n",
    "# Load shapefile\n",
    "print(\"Loading shapefile data...\")\n",
    "oa_gdf = gpd.read_file(oa_population_shapefile)\n",
    "\n",
    "# Retain only the specified columns\n",
    "columns_to_keep = [\n",
    "    'OA21CD', 'LSOA21CD', 'LSOA21NM', 'LSOA21NMW', 'BNG_E', 'BNG_N', 'LAT', 'LONG', 'GlobalID', \n",
    "    'index_righ', 'CODE', 'NAME', 'MEASURE', 'DESIG_DATE', 'HOTLINK', 'STATUS', 'National_P', \n",
    "    'Park_Popul', 'address_in', 'total_addr', 'address_ou', 'OA_Populat', 'pop_per_ad', \n",
    "    'pop_inside', 'pop_outsid'\n",
    "]\n",
    "oa_gdf = oa_gdf[columns_to_keep]\n",
    "\n",
    "# Calculate percentage of addresses inside the park\n",
    "oa_gdf['percentage_in'] = oa_gdf['address_in'] / oa_gdf['total_addr']\n",
    "\n",
    "# Define the thresholds\n",
    "thresholds = [i / 20.0 for i in range(0, 20)] \n",
    "\n",
    "# Add threshold columns\n",
    "for threshold in thresholds:\n",
    "    threshold_col = f'Threshold_{int(threshold * 100)}'\n",
    "    oa_gdf[threshold_col] = oa_gdf.apply(\n",
    "        lambda row: row['OA_Populat'] if row['percentage_in'] >= threshold else '', axis=1\n",
    "    )\n",
    "\n",
    "# Save the results to a CSV file\n",
    "oa_gdf.to_csv('threshold_results.csv', index=False)\n",
    "\n",
    "print(\"Threshold results saved to 'threshold_results.csv'.\")"
   ]
  }
 ],
 "metadata": {
  "kernelspec": {
   "display_name": "np-os",
   "language": "python",
   "name": "python3"
  },
  "language_info": {
   "codemirror_mode": {
    "name": "ipython",
    "version": 3
   },
   "file_extension": ".py",
   "mimetype": "text/x-python",
   "name": "python",
   "nbconvert_exporter": "python",
   "pygments_lexer": "ipython3",
   "version": "3.9.19"
  }
 },
 "nbformat": 4,
 "nbformat_minor": 2
}
